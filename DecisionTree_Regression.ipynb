{
 "cells": [
  {
   "cell_type": "code",
   "execution_count": 25,
   "id": "edeb49e8",
   "metadata": {},
   "outputs": [],
   "source": [
    "import numpy as np\n",
    "import pandas as pd\n",
    "from sklearn.model_selection import train_test_split\n",
    "from sklearn.tree import DecisionTreeRegressor\n",
    "from sklearn import metrics,tree"
   ]
  },
  {
   "cell_type": "code",
   "execution_count": 26,
   "id": "c20325cf",
   "metadata": {},
   "outputs": [
    {
     "name": "stdout",
     "output_type": "stream",
     "text": [
      "     outlook temperature humidity  windy play\n",
      "0      sunny         hot     high  False   no\n",
      "1      sunny         hot     high   True   no\n",
      "2   overcast         hot     high  False  yes\n",
      "3      rainy        mild     high  False  yes\n",
      "4      rainy        cool   normal  False  yes\n",
      "5      rainy        cool   normal   True   no\n",
      "6   overcast        cool   normal   True  yes\n",
      "7      sunny        mild     high  False   no\n",
      "8      sunny        cool   normal  False  yes\n",
      "9      rainy        mild   normal  False  yes\n",
      "10     sunny        mild   normal   True  yes\n",
      "11  overcast        mild     high   True  yes\n",
      "12  overcast         hot   normal  False  yes\n",
      "13     rainy        mild     high   True   no\n"
     ]
    }
   ],
   "source": [
    "dt=pd.read_csv('weather.csv')\n",
    "print(dt)\n"
   ]
  },
  {
   "cell_type": "code",
   "execution_count": 27,
   "id": "2618643f",
   "metadata": {},
   "outputs": [],
   "source": [
    "dt['play'],_=pd.factorize(dt['play'])\n",
    "dt['outlook'],_=pd.factorize(dt['outlook'])\n",
    "dt['temperature'],_=pd.factorize(dt['temperature'])\n",
    "dt['humidity'],_=pd.factorize(dt['humidity'])\n",
    "dt['windy'],_=pd.factorize(dt['windy'])"
   ]
  },
  {
   "cell_type": "code",
   "execution_count": 28,
   "id": "2187d853",
   "metadata": {},
   "outputs": [
    {
     "name": "stdout",
     "output_type": "stream",
     "text": [
      "    outlook  temperature  humidity  windy\n",
      "0         0            0         0      0\n",
      "1         0            0         0      1\n",
      "2         1            0         0      0\n",
      "3         2            1         0      0\n",
      "4         2            2         1      0\n",
      "5         2            2         1      1\n",
      "6         1            2         1      1\n",
      "7         0            1         0      0\n",
      "8         0            2         1      0\n",
      "9         2            1         1      0\n",
      "10        0            1         1      1\n",
      "11        1            1         0      1\n",
      "12        1            0         1      0\n",
      "13        2            1         0      1\n"
     ]
    }
   ],
   "source": [
    "X = dt.iloc[:,:-1]\n",
    "y= dt.iloc[:,-1] #Only last column\n",
    "print(X)"
   ]
  },
  {
   "cell_type": "code",
   "execution_count": 29,
   "id": "7c92cade",
   "metadata": {},
   "outputs": [],
   "source": [
    "# split data randomly into 80% training and 20% test\n",
    "X_train,X_test,y_train,y_test = train_test_split(X,y,test_size=0.2, random_state=0)"
   ]
  },
  {
   "cell_type": "code",
   "execution_count": 30,
   "id": "42ad3371",
   "metadata": {},
   "outputs": [],
   "source": [
    "# train the decision treee\n",
    "dtree = tree.DecisionTreeClassifier(criterion = 'entropy', max_depth=3)\n",
    "#dtree = tree.DecisionTreeClassifier(criterion = 'entropy')\n",
    "#dtree = tree.DecisionTreeClassifier(criterion = 'gini', max_depth=3)\n"
   ]
  },
  {
   "cell_type": "code",
   "execution_count": 31,
   "id": "8dee0e39",
   "metadata": {},
   "outputs": [
    {
     "name": "stdout",
     "output_type": "stream",
     "text": [
      "Confusion Matrix: [[3]]\n",
      "Accuracy: 1.0\n"
     ]
    }
   ],
   "source": [
    "dtree.fit(X_train, y_train)\n",
    "#use the model to make predictions with the test data\n",
    "y_pred = dtree.predict(X_test)\n",
    "#print(y_pred)\n",
    "#Making the Confusion Matrix\n",
    "cm = metrics.confusion_matrix(y_test, y_pred)\n",
    "print(\"Confusion Matrix:\",cm)\n",
    "print('Accuracy:',metrics.accuracy_score(y_test, y_pred))"
   ]
  },
  {
   "cell_type": "code",
   "execution_count": 37,
   "id": "df7d8ff4",
   "metadata": {},
   "outputs": [
    {
     "name": "stdout",
     "output_type": "stream",
     "text": [
      "RMSE Score--- 1 : 0.4918554347646094\n",
      "RMSE Score--- 2 : 0.3849001794597505\n",
      "RMSE Score--- 3 : 0.0\n",
      "RMSE Score--- 4 : 0.0\n",
      "RMSE Score--- 5 : 0.0\n",
      "RMSE Score--- 6 : 0.0\n",
      "RMSE Score--- 7 : 0.0\n",
      "RMSE Score--- 8 : 0.0\n",
      "RMSE Score--- 9 : 0.0\n",
      "RMSE Score--- 10 : 0.0\n",
      "RMSE Score--- 11 : 0.0\n",
      "RMSE Score--- 12 : 0.0\n",
      "RMSE Score--- 13 : 0.0\n",
      "RMSE Score--- 14 : 0.0\n",
      "RMSE Score--- 15 : 0.0\n",
      "RMSE Score--- 16 : 0.0\n",
      "RMSE Score--- 17 : 0.0\n",
      "RMSE Score--- 18 : 0.0\n",
      "RMSE Score--- 19 : 0.0\n",
      "RMSE Score--- 20 : 0.0\n",
      "RMSE Score--- 21 : 0.0\n",
      "RMSE Score--- 22 : 0.0\n",
      "RMSE Score--- 23 : 0.0\n",
      "RMSE Score--- 24 : 0.0\n"
     ]
    }
   ],
   "source": [
    "# finding the accuracy by means of Max_depth\n",
    "for i in range (1,25):\n",
    "    dtree = DecisionTreeRegressor(max_depth=i)\n",
    "    dtree.fit(X_train,y_train)\n",
    "    y_pred = dtree.predict(X_test)\n",
    "    rmse = np.sqrt(metrics.mean_squared_error(y_test,y_pred))\n",
    "    print(\"RMSE Score---\",i,\":\",rmse)"
   ]
  },
  {
   "cell_type": "code",
   "execution_count": 38,
   "id": "6b2b2e79",
   "metadata": {},
   "outputs": [],
   "source": [
    "dtreen= DecisionTreeRegressor(max_depth=3)\n",
    "dtree.fit(X_train,y_train)\n",
    "y_pred = dtree.predict(X_test)"
   ]
  },
  {
   "cell_type": "code",
   "execution_count": 39,
   "id": "0ec03747",
   "metadata": {},
   "outputs": [
    {
     "name": "stdout",
     "output_type": "stream",
     "text": [
      "RMSE Score : 0.0\n"
     ]
    }
   ],
   "source": [
    "rmse = np.sqrt(metrics.mean_squared_error(y_test, y_pred))\n",
    "print(\"RMSE Score :\",rmse)"
   ]
  },
  {
   "cell_type": "code",
   "execution_count": null,
   "id": "208a0936",
   "metadata": {},
   "outputs": [],
   "source": []
  }
 ],
 "metadata": {
  "kernelspec": {
   "display_name": "Python 3 (ipykernel)",
   "language": "python",
   "name": "python3"
  },
  "language_info": {
   "codemirror_mode": {
    "name": "ipython",
    "version": 3
   },
   "file_extension": ".py",
   "mimetype": "text/x-python",
   "name": "python",
   "nbconvert_exporter": "python",
   "pygments_lexer": "ipython3",
   "version": "3.9.13"
  }
 },
 "nbformat": 4,
 "nbformat_minor": 5
}
